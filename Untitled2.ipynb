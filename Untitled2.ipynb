{
 "cells": [
  {
   "cell_type": "code",
   "execution_count": 1,
   "id": "a5abb546",
   "metadata": {},
   "outputs": [],
   "source": [
    "import pandas as pd"
   ]
  },
  {
   "cell_type": "code",
   "execution_count": 2,
   "id": "2238fff5",
   "metadata": {},
   "outputs": [],
   "source": [
    "import numpy as np"
   ]
  },
  {
   "cell_type": "code",
   "execution_count": 3,
   "id": "2aa5a638",
   "metadata": {},
   "outputs": [],
   "source": [
    "class Student:\n",
    "    def __init__ (self,name,korean,math,english,science):\n",
    "        self.name=name\n",
    "        self.korean=korean\n",
    "        self.math=math\n",
    "        self.english=english\n",
    "        self.science=science\n",
    "        \n",
    "    def get_sum(self):\n",
    "        return self.korean+self.math+self.english+self.science\n",
    "    \n",
    "    def get_average(self):\n",
    "        return self.get_sum()/4\n",
    "    \n",
    "    def to_string(self):\n",
    "        return \"{}\\t{}\\t{}\".format(self.name, self.get_sum(), self.get_average())"
   ]
  },
  {
   "cell_type": "code",
   "execution_count": 4,
   "id": "6d9a2b02",
   "metadata": {},
   "outputs": [],
   "source": [
    "students=[\n",
    "     Student(\"남성휘\",100,100,100,100),\n",
    "     Student(\"정겨운\",98,98,98,98),\n",
    "     Student(\"엄지섭\",100,100,98,100),\n",
    "     Student(\"김은효\",100,98,98,100)\n",
    "]"
   ]
  },
  {
   "cell_type": "code",
   "execution_count": 5,
   "id": "f80006c1",
   "metadata": {},
   "outputs": [
    {
     "data": {
      "text/plain": [
       "<__main__.Student at 0x2c49077b1c0>"
      ]
     },
     "execution_count": 5,
     "metadata": {},
     "output_type": "execute_result"
    }
   ],
   "source": [
    "students[0]"
   ]
  },
  {
   "cell_type": "code",
   "execution_count": 6,
   "id": "02bc02eb",
   "metadata": {},
   "outputs": [
    {
     "name": "stdout",
     "output_type": "stream",
     "text": [
      "이름\t총점\t평균\n",
      "남성휘\t400\t100.0\n",
      "정겨운\t392\t98.0\n",
      "엄지섭\t398\t99.5\n",
      "김은효\t396\t99.0\n"
     ]
    }
   ],
   "source": [
    "print(\"이름\",\"총점\",\"평균\",sep=\"\\t\")\n",
    "for student in students :\n",
    "    print(student.to_string())"
   ]
  },
  {
   "cell_type": "code",
   "execution_count": 9,
   "id": "91e9e917",
   "metadata": {},
   "outputs": [
    {
     "name": "stdout",
     "output_type": "stream",
     "text": [
      "남성휘 100 100 100 100\n",
      "정겨운 98 98 98 98\n",
      "엄지섭 100 100 98 100\n",
      "김은효 100 98 98 100\n"
     ]
    }
   ],
   "source": [
    "for student in students :\n",
    "    print(student.name,\n",
    "          student.korean,\n",
    "          student.math,\n",
    "          student.english,\n",
    "          student.science,\n",
    "         )"
   ]
  },
  {
   "cell_type": "code",
   "execution_count": 10,
   "id": "d045f77f",
   "metadata": {},
   "outputs": [],
   "source": [
    "students = [\n",
    "    {\"name\":\"윤인성\", \"korean\":87,\"math\":98,\"english\":88, \"science\": 95},\n",
    "    {\"name\":\"연하진\", \"korean\":92,\"math\":98,\"english\":96, \"science\": 98},\n",
    "    {\"name\":\"구지연\", \"korean\":76,\"math\":96,\"english\":94, \"science\": 90},\n",
    "    {\"name\":\"나선주\", \"korean\":98,\"math\":92,\"english\":96, \"science\": 92},\n",
    "    {\"name\":\"윤아린\", \"korean\":95,\"math\":98,\"english\":98, \"science\": 98},\n",
    "    {\"name\":\"윤명월\", \"korean\":64,\"math\":88,\"english\":92, \"science\": 92},\n",
    "    ]"
   ]
  },
  {
   "cell_type": "code",
   "execution_count": null,
   "id": "3d3afd2a",
   "metadata": {},
   "outputs": [],
   "source": []
  }
 ],
 "metadata": {
  "kernelspec": {
   "display_name": "Python 3 (ipykernel)",
   "language": "python",
   "name": "python3"
  },
  "language_info": {
   "codemirror_mode": {
    "name": "ipython",
    "version": 3
   },
   "file_extension": ".py",
   "mimetype": "text/x-python",
   "name": "python",
   "nbconvert_exporter": "python",
   "pygments_lexer": "ipython3",
   "version": "3.9.7"
  }
 },
 "nbformat": 4,
 "nbformat_minor": 5
}
